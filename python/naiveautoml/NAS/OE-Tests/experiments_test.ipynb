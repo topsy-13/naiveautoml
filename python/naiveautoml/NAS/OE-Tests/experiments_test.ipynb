{
 "cells": [
  {
   "cell_type": "code",
   "execution_count": 1,
   "metadata": {},
   "outputs": [],
   "source": [
    "import torch\n",
    "import torch.nn as nn\n",
    "import torch.optim as optim\n",
    "\n",
    "# Own modules\n",
    "import load_cifar10\n",
    "import experiments"
   ]
  },
  {
   "cell_type": "code",
   "execution_count": 2,
   "metadata": {},
   "outputs": [
    {
     "name": "stdout",
     "output_type": "stream",
     "text": [
      "Data loaded succesfully! as <class 'torch.Tensor'>\n",
      "Training data shape: torch.Size([40000, 3, 32, 32])\n"
     ]
    }
   ],
   "source": [
    "train_loader, val_loader, test_loader = load_cifar10.DatasetandLoader('../CIFAR-10')"
   ]
  },
  {
   "cell_type": "code",
   "execution_count": 3,
   "metadata": {},
   "outputs": [],
   "source": [
    "# Initialize model, loss function, and optimizer\n",
    "input_size = 32 * 32 * 3  # 3072 features per image\n",
    "hidden_layers = [512, 256, 128]  # Three hidden layers\n",
    "num_classes = 10  # CIFAR-10 has 10 classes\n",
    "lr=0.001\n",
    "\n",
    "# Create dict to pass to experiments\n",
    "architecture = {\n",
    "    'input_size': input_size,\n",
    "    'hlayers_size': hidden_layers,\n",
    "    'lr': lr,\n",
    "    'num_classes': num_classes\n",
    "}"
   ]
  },
  {
   "cell_type": "code",
   "execution_count": 4,
   "metadata": {},
   "outputs": [],
   "source": [
    "experiment = experiments.Experiment(architecture=architecture)"
   ]
  },
  {
   "cell_type": "code",
   "execution_count": 5,
   "metadata": {},
   "outputs": [],
   "source": [
    "experiment.build_MLP()"
   ]
  },
  {
   "cell_type": "code",
   "execution_count": 6,
   "metadata": {},
   "outputs": [
    {
     "data": {
      "text/plain": [
       "torch.utils.data.dataloader.DataLoader"
      ]
     },
     "execution_count": 6,
     "metadata": {},
     "output_type": "execute_result"
    }
   ],
   "source": [
    "type(test_loader)"
   ]
  },
  {
   "cell_type": "code",
   "execution_count": null,
   "metadata": {},
   "outputs": [
    {
     "name": "stdout",
     "output_type": "stream",
     "text": [
      "train_loader type: <class 'torch.utils.data.dataloader.DataLoader'>\n",
      "test_loader type: <class 'torch.utils.data.dataloader.DataLoader'>\n"
     ]
    },
    {
     "data": {
      "text/plain": [
       "{'n_layers': 3,\n",
       " 'neurons_per_layer': [512, 256, 128],\n",
       " 'learning_rate': 0.001,\n",
       " 'test_accuracy': 45.18}"
      ]
     },
     "execution_count": 7,
     "metadata": {},
     "output_type": "execute_result"
    }
   ],
   "source": [
    "experiment.train_and_evaluate(train_loader=train_loader,\n",
    "                             test_loader=test_loader)\n"
   ]
  }
 ],
 "metadata": {
  "kernelspec": {
   "display_name": "AutoML",
   "language": "python",
   "name": "python3"
  },
  "language_info": {
   "codemirror_mode": {
    "name": "ipython",
    "version": 3
   },
   "file_extension": ".py",
   "mimetype": "text/x-python",
   "name": "python",
   "nbconvert_exporter": "python",
   "pygments_lexer": "ipython3",
   "version": "3.11.11"
  }
 },
 "nbformat": 4,
 "nbformat_minor": 2
}
