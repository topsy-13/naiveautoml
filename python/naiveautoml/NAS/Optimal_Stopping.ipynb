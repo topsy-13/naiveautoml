{
 "cells": [
  {
   "cell_type": "code",
   "execution_count": 2,
   "metadata": {},
   "outputs": [],
   "source": [
    "import torch\n",
    "import torch.nn as nn\n",
    "import torch.optim as optim\n",
    "\n",
    "import load_cifar10\n"
   ]
  },
  {
   "cell_type": "code",
   "execution_count": 3,
   "metadata": {},
   "outputs": [
    {
     "name": "stdout",
     "output_type": "stream",
     "text": [
      "Data loaded succesfully! as <class 'torch.Tensor'>\n",
      "Training data shape: torch.Size([40000, 3, 32, 32])\n"
     ]
    }
   ],
   "source": [
    "train_loader, val_loader, test_loader = load_cifar10.DatasetandLoader()"
   ]
  },
  {
   "cell_type": "code",
   "execution_count": 4,
   "metadata": {},
   "outputs": [],
   "source": [
    "class MLP(nn.Module):\n",
    "    def __init__(self, input_size, neuron_structure, num_classes):\n",
    "        super().__init__()\n",
    "        # Define first layer\n",
    "        layers = []\n",
    "        prev_size = input_size\n",
    "\n",
    "        # Create hidden layers\n",
    "        # Neuron Structure is expecting a list\n",
    "        for neurons in neuron_structure:\n",
    "            layers.append(nn.Linear(prev_size, neurons))\n",
    "            layers.append(nn.ReLU())\n",
    "            prev_size = neurons\n",
    "\n",
    "        # Define output layer\n",
    "        layers.append(nn.Linear(prev_size, num_classes))\n",
    "        \n",
    "        self.network = nn.Sequential(*layers)\n",
    "\n",
    "    def forward(self, x):\n",
    "        return self.network(x)\n",
    "    \n"
   ]
  },
  {
   "cell_type": "code",
   "execution_count": 5,
   "metadata": {},
   "outputs": [
    {
     "name": "stdout",
     "output_type": "stream",
     "text": [
      "Using device: cuda\n"
     ]
    }
   ],
   "source": [
    "# Set GPU if available\n",
    "device = torch.device(\"cuda\" if torch.cuda.is_available() else \"cpu\")\n",
    "print(\"Using device:\", device)\n"
   ]
  },
  {
   "cell_type": "code",
   "execution_count": 11,
   "metadata": {},
   "outputs": [],
   "source": [
    "def train(model, train_loader, criterion, optimizer, device):\n",
    "    model.train()\n",
    "    running_loss = 0.0\n",
    "    for images, labels in train_loader:\n",
    "        images, labels = images.to(device), labels.to(device)\n",
    "\n",
    "        # Flatten images from (batch, 3, 32, 32) to (batch, 3072)\n",
    "        images = images.view(images.size(0), -1)\n",
    "\n",
    "        optimizer.zero_grad()\n",
    "        outputs = model(images)\n",
    "        loss = criterion(outputs, labels)\n",
    "        loss.backward()\n",
    "        optimizer.step()\n",
    "\n",
    "        running_loss += loss.item()\n",
    "\n",
    "    return running_loss / len(train_loader)\n",
    "\n",
    "def evaluate(model, test_loader, criterion, device):\n",
    "    model.eval()\n",
    "    correct = 0\n",
    "    total = 0\n",
    "    test_loss = 0.0\n",
    "\n",
    "    with torch.no_grad():\n",
    "        for images, labels in test_loader:\n",
    "            images, labels = images.to(device), labels.to(device)\n",
    "\n",
    "            # Flatten images\n",
    "            images = images.view(images.size(0), -1)\n",
    "\n",
    "            outputs = model(images)\n",
    "            loss = criterion(outputs, labels)\n",
    "            test_loss += loss.item()\n",
    "\n",
    "            _, predicted = torch.max(outputs, 1)\n",
    "            correct += (predicted == labels).sum().item()\n",
    "            total += labels.size(0)\n",
    "\n",
    "    accuracy = 100 * correct / total\n",
    "    return test_loss / len(test_loader), accuracy\n",
    "\n"
   ]
  },
  {
   "cell_type": "markdown",
   "metadata": {},
   "source": [
    "# Search Space"
   ]
  },
  {
   "cell_type": "code",
   "execution_count": 10,
   "metadata": {},
   "outputs": [
    {
     "name": "stdout",
     "output_type": "stream",
     "text": [
      "Total architectures: 27\n"
     ]
    }
   ],
   "source": [
    "from itertools import product\n",
    "\n",
    "n_hidden_layers = [1, 2, 4]  # Number of hidden layers\n",
    "n_neurons_x_layer = [50, 200, 1000]  # Neurons per layer\n",
    "learning_rate = [10**-3, 10**-4, 10**-5]  # Learning rates\n",
    "\n",
    "# Define activation functions\n",
    "activation_functions = {\n",
    "    'relu': nn.ReLU(),\n",
    "    'tanh': nn.Tanh(),\n",
    "    'sigmoid': nn.Sigmoid()\n",
    "}\n",
    "\n",
    "activation = 'relu' # Fixed \n",
    "# Choose activation function (default to ReLU)\n",
    "activation_fn = activation_functions.get(activation, nn.ReLU())\n",
    "\n",
    "architectures = list(product(n_hidden_layers, n_neurons_x_layer, learning_rate))\n",
    "print('Total architectures:', len(architectures)) \n"
   ]
  },
  {
   "cell_type": "code",
   "execution_count": null,
   "metadata": {},
   "outputs": [
    {
     "name": "stdout",
     "output_type": "stream",
     "text": [
      "[(2, 200, 0.0001), (1, 1000, 0.001), (1, 1000, 1e-05), (1, 50, 0.0001), (2, 200, 0.001), (2, 1000, 0.001), (4, 1000, 1e-05), (2, 50, 0.0001), (4, 50, 0.0001), (2, 1000, 0.0001), (1, 200, 0.001), (4, 200, 1e-05), (4, 50, 1e-05), (2, 200, 1e-05), (1, 50, 1e-05), (4, 1000, 0.0001), (4, 50, 0.001), (1, 200, 0.0001), (1, 1000, 0.0001), (1, 200, 1e-05), (2, 50, 0.001), (4, 1000, 0.001), (2, 50, 1e-05), (2, 1000, 1e-05), (4, 200, 0.0001), (1, 50, 0.001), (4, 200, 0.001)]\n"
     ]
    }
   ],
   "source": []
  },
  {
   "cell_type": "code",
   "execution_count": 21,
   "metadata": {},
   "outputs": [
    {
     "name": "stdout",
     "output_type": "stream",
     "text": [
      "Testing architecture 1/27\n",
      "Training MLP with 4 layers, 50 neurons per layer, LR=1e-05\n",
      "Testing architecture 2/27\n",
      "Training MLP with 1 layers, 200 neurons per layer, LR=0.0001\n",
      "Testing architecture 3/27\n",
      "Training MLP with 1 layers, 1000 neurons per layer, LR=0.001\n",
      "Testing architecture 4/27\n",
      "Training MLP with 4 layers, 1000 neurons per layer, LR=0.0001\n",
      "Testing architecture 5/27\n",
      "Training MLP with 1 layers, 1000 neurons per layer, LR=1e-05\n",
      "Testing architecture 6/27\n",
      "Training MLP with 1 layers, 50 neurons per layer, LR=1e-05\n",
      "Testing architecture 7/27\n",
      "Training MLP with 4 layers, 1000 neurons per layer, LR=1e-05\n",
      "Testing architecture 8/27\n",
      "Training MLP with 2 layers, 200 neurons per layer, LR=1e-05\n",
      "Testing architecture 9/27\n",
      "Training MLP with 4 layers, 50 neurons per layer, LR=0.001\n",
      "Testing architecture 10/27\n",
      "Training MLP with 4 layers, 1000 neurons per layer, LR=0.001\n",
      "Testing architecture 11/27\n",
      "Training MLP with 4 layers, 200 neurons per layer, LR=1e-05\n",
      "Testing architecture 12/27\n",
      "Training MLP with 1 layers, 200 neurons per layer, LR=0.001\n",
      "Testing architecture 13/27\n",
      "Training MLP with 2 layers, 50 neurons per layer, LR=0.0001\n",
      "Testing architecture 14/27\n",
      "Training MLP with 2 layers, 200 neurons per layer, LR=0.001\n",
      "Testing architecture 15/27\n",
      "Training MLP with 2 layers, 1000 neurons per layer, LR=0.0001\n",
      "Optimal stopping triggered at 15/27\n",
      "Selected Architecture: (2, 1000, 0.0001)\n"
     ]
    }
   ],
   "source": [
    "import random\n",
    "\n",
    "# Shuffle architecture search space\n",
    "random.shuffle(architectures)\n",
    "\n",
    "results = []\n",
    "best_score = 0\n",
    "best_architecture = None\n",
    "\n",
    "search_configurations_len = len(architectures)\n",
    "observation_phase = search_configurations_len // 3  # First 33% as observation phase\n",
    "\n",
    "best_found_before_selection = None  # Store best model found in Phase 1\n",
    "\n",
    "# Phase 1: Observe the first 33% without selecting\n",
    "for i, (n_layers, neurons_per_layer, lr) in enumerate(architectures):\n",
    "    print(f'Testing architecture {i+1}/{search_configurations_len}')\n",
    "    print(f\"Training MLP with {n_layers} layers, {neurons_per_layer} neurons per layer, LR={lr}\")\n",
    "\n",
    "    hidden_layers = [neurons_per_layer] * n_layers\n",
    "    model = MLP(input_size=32*32*3, neuron_structure=hidden_layers, num_classes=10).to(device)\n",
    "    \n",
    "    optimizer = optim.Adam(model.parameters(), lr=lr)\n",
    "    criterion = nn.CrossEntropyLoss()\n",
    "\n",
    "    num_epochs = 1\n",
    "    train_loss = train(model, train_loader, criterion, optimizer, device)\n",
    "    test_loss, test_accuracy = evaluate(model, test_loader, criterion, device)\n",
    "\n",
    "    results.append({\n",
    "        'n_layers': n_layers,\n",
    "        'neurons_per_layer': neurons_per_layer,\n",
    "        'learning_rate': lr,\n",
    "        'test_accuracy': test_accuracy\n",
    "    })\n",
    "\n",
    "    # Observation phase: Track the best model seen so far\n",
    "    if i < observation_phase:\n",
    "        if test_accuracy > best_score:\n",
    "            best_score = test_accuracy\n",
    "            best_found_before_selection = (n_layers, neurons_per_layer, lr)\n",
    "    else:\n",
    "        # Selection phase: Pick the first architecture better than any seen before\n",
    "        if test_accuracy > best_score:\n",
    "            print(f\"Optimal stopping triggered at {i+1}/{search_configurations_len}\")\n",
    "            best_architecture = (n_layers, neurons_per_layer, lr)\n",
    "            break\n",
    "\n",
    "# If no architecture was selected in phase 2, return to the best one from Phase 1\n",
    "if best_architecture is None:\n",
    "    best_architecture = best_found_before_selection\n",
    "    print(f\"No better architecture found in Phase 2, returning to best from Phase 1.\")\n",
    "\n",
    "print(\"Selected Architecture:\", best_architecture)\n"
   ]
  }
 ],
 "metadata": {
  "kernelspec": {
   "display_name": "AutoML",
   "language": "python",
   "name": "python3"
  },
  "language_info": {
   "codemirror_mode": {
    "name": "ipython",
    "version": 3
   },
   "file_extension": ".py",
   "mimetype": "text/x-python",
   "name": "python",
   "nbconvert_exporter": "python",
   "pygments_lexer": "ipython3",
   "version": "3.11.11"
  }
 },
 "nbformat": 4,
 "nbformat_minor": 2
}
