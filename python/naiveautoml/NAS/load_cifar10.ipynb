{
 "cells": [
  {
   "cell_type": "code",
   "execution_count": 17,
   "metadata": {},
   "outputs": [],
   "source": [
    "import os \n",
    "import pickle\n",
    "import numpy as np"
   ]
  },
  {
   "cell_type": "code",
   "execution_count": 2,
   "metadata": {},
   "outputs": [],
   "source": [
    "def unpickle(file):\n",
    "    with open(file, 'rb') as fo:\n",
    "        dict = pickle.load(fo, encoding='bytes')\n",
    "    return dict"
   ]
  },
  {
   "cell_type": "markdown",
   "metadata": {},
   "source": [
    "# Load CIFAR-10 dataset"
   ]
  },
  {
   "cell_type": "code",
   "execution_count": 20,
   "metadata": {},
   "outputs": [
    {
     "name": "stdout",
     "output_type": "stream",
     "text": [
      "10000 10000\n",
      "20000 20000\n",
      "30000 30000\n",
      "40000 40000\n",
      "50000 50000\n",
      "(50000, 32, 32, 3) (50000,)\n"
     ]
    }
   ],
   "source": [
    "# Initialize variables\n",
    "X_train, y_train = [], []\n",
    "X_test, y_test = [], []\n",
    "\n",
    "# Load all the paths of the pickle files\n",
    "cifar_path = \"CIFAR-10\"\n",
    "files_path = os.listdir(cifar_path)\n",
    "\n",
    "# Load training data\n",
    "for file in files_path: \n",
    "  filepath = os.path.join(cifar_path, file)\n",
    "  if file.startswith(\"data_batch\"):\n",
    "    temp_dict = unpickle(filepath)\n",
    "    X_train.extend(temp_dict[b'data'])\n",
    "    y_train.extend(temp_dict[b'labels'])\n",
    "    print(len(X_train), len(y_train))\n",
    "\n",
    "# Load testing data\n",
    "for file in files_path:\n",
    "    filepath = os.path.join(cifar_path, file)\n",
    "    if file.startswith(\"test_batch\"):\n",
    "        temp_dict = unpickle(filepath)\n",
    "        X_test.append(temp_dict[b'data'])\n",
    "        y_test.extend(temp_dict[b'labels'])\n",
    "\n",
    "# Turn into numpy array \n",
    "X_train, y_train = np.array(X_train), np.array(y_train)\n",
    "X_test, y_test = np.array(X_test), np.array(y_test)\n",
    "\n",
    "# Reshape the data\n",
    "X_train = np.vstack(X_train).reshape(-1, 3, 32, 32).transpose(0, 2, 3, 1)\n",
    "X_test = np.vstack(X_test).reshape(-1, 3, 32, 32).transpose(0, 2, 3, 1)\n",
    "print(X_train.shape, y_train.shape)"
   ]
  },
  {
   "cell_type": "code",
   "execution_count": 26,
   "metadata": {},
   "outputs": [
    {
     "data": {
      "image/png": "[encoded data removed]",
      "text/plain": [
       "<Figure size 100x100 with 1 Axes>"
      ]
     },
     "metadata": {},
     "output_type": "display_data"
    }
   ],
   "source": [
    "import matplotlib.pyplot as plt\n",
    "\n",
    "# Select an image index (e.g., 0)\n",
    "index = 34000\n",
    "\n",
    "# Get the image\n",
    "image = X_train[index]\n",
    "\n",
    "# Plot the image\n",
    "plt.figure(figsize=(1, 1))  \n",
    "plt.imshow(image)\n",
    "plt.axis(\"off\")  # Hide axes for better visualization\n",
    "plt.show()\n"
   ]
  }
 ],
 "metadata": {
  "kernelspec": {
   "display_name": "AutoML",
   "language": "python",
   "name": "python3"
  },
  "language_info": {
   "codemirror_mode": {
    "name": "ipython",
    "version": 3
   },
   "file_extension": ".py",
   "mimetype": "text/x-python",
   "name": "python",
   "nbconvert_exporter": "python",
   "pygments_lexer": "ipython3",
   "version": "3.11.11"
  }
 },
 "nbformat": 4,
 "nbformat_minor": 4
}
