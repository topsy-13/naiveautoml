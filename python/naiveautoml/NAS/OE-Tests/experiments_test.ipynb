{
 "cells": [
  {
   "cell_type": "code",
   "execution_count": 1,
   "metadata": {},
   "outputs": [],
   "source": [
    "import torch\n",
    "import torch.nn as nn\n",
    "import torch.optim as optim\n",
    "\n",
    "# Own modules\n",
    "import load_cifar10\n",
    "import experiments"
   ]
  },
  {
   "cell_type": "code",
   "execution_count": 2,
   "metadata": {},
   "outputs": [
    {
     "name": "stdout",
     "output_type": "stream",
     "text": [
      "Data loaded succesfully! as <class 'torch.Tensor'>\n",
      "Training data shape: torch.Size([40000, 3, 32, 32])\n"
     ]
    }
   ],
   "source": [
    "train_loader, val_loader, test_loader = load_cifar10.DatasetandLoader('../CIFAR-10')"
   ]
  },
  {
   "cell_type": "code",
   "execution_count": 3,
   "metadata": {},
   "outputs": [],
   "source": [
    "# Initialize model, loss function, and optimizer\n",
    "input_size = 32 * 32 * 3  # 3072 features per image\n",
    "hidden_layers = [1000, 1000] \n",
    "num_classes = 10  # CIFAR-10 has 10 classes\n",
    "lr=0.001\n",
    "\n",
    "# Create dict to pass to experiments\n",
    "architecture = {\n",
    "    'input_size': input_size,\n",
    "    'hlayers_size': hidden_layers,\n",
    "    'lr': lr,\n",
    "    'num_classes': num_classes\n",
    "}"
   ]
  },
  {
   "cell_type": "code",
   "execution_count": 4,
   "metadata": {},
   "outputs": [],
   "source": [
    "experiment = experiments.Experiment(architecture=architecture, train_strategy='ES')"
   ]
  },
  {
   "cell_type": "code",
   "execution_count": 5,
   "metadata": {},
   "outputs": [
    {
     "name": "stdout",
     "output_type": "stream",
     "text": [
      "Epoch 1, Train Loss: 1.7035, Val Loss: 1.5572\n",
      "Epoch 2, Train Loss: 1.5172, Val Loss: 1.5127\n",
      "Epoch 3, Train Loss: 1.4193, Val Loss: 1.4496\n",
      "Epoch 4, Train Loss: 1.3365, Val Loss: 1.4582\n",
      "Epoch 5, Train Loss: 1.2768, Val Loss: 1.4458\n",
      "Epoch 6, Train Loss: 1.2091, Val Loss: 1.4573\n",
      "Epoch 7, Train Loss: 1.1499, Val Loss: 1.4796\n",
      "Epoch 8, Train Loss: 1.0883, Val Loss: 1.5238\n",
      "Epoch 9, Train Loss: 1.0400, Val Loss: 1.5176\n",
      "Epoch 10, Train Loss: 0.9834, Val Loss: 1.5179\n",
      "Epoch 11, Train Loss: 0.9248, Val Loss: 1.5567\n",
      "Epoch 12, Train Loss: 0.8864, Val Loss: 1.6495\n",
      "Epoch 13, Train Loss: 0.8373, Val Loss: 1.6862\n",
      "Epoch 14, Train Loss: 0.7941, Val Loss: 1.7070\n",
      "Epoch 15, Train Loss: 0.7591, Val Loss: 1.8229\n",
      "Epoch 16, Train Loss: 0.7154, Val Loss: 1.8635\n",
      "Epoch 17, Train Loss: 0.6820, Val Loss: 1.8247\n",
      "Epoch 18, Train Loss: 0.6440, Val Loss: 1.9050\n",
      "Epoch 19, Train Loss: 0.6139, Val Loss: 2.0271\n",
      "Epoch 20, Train Loss: 0.5970, Val Loss: 2.0582\n",
      "Epoch 21, Train Loss: 0.5567, Val Loss: 2.1746\n",
      "Epoch 22, Train Loss: 0.5434, Val Loss: 2.1646\n",
      "Epoch 23, Train Loss: 0.5222, Val Loss: 2.2031\n",
      "Epoch 24, Train Loss: 0.5009, Val Loss: 2.2995\n",
      "Epoch 25, Train Loss: 0.4831, Val Loss: 2.3644\n",
      "Epoch 26, Train Loss: 0.4701, Val Loss: 2.4847\n",
      "Epoch 27, Train Loss: 0.4576, Val Loss: 2.4428\n",
      "Epoch 28, Train Loss: 0.4304, Val Loss: 2.5317\n",
      "Epoch 29, Train Loss: 0.4232, Val Loss: 2.6464\n",
      "Epoch 30, Train Loss: 0.4016, Val Loss: 2.5781\n",
      "Epoch 31, Train Loss: 0.3966, Val Loss: 2.8325\n",
      "Epoch 32, Train Loss: 0.3963, Val Loss: 2.8053\n",
      "Epoch 33, Train Loss: 0.3641, Val Loss: 2.7504\n",
      "Epoch 34, Train Loss: 0.3598, Val Loss: 2.9049\n",
      "Epoch 35, Train Loss: 0.3513, Val Loss: 2.8648\n",
      "Epoch 36, Train Loss: 0.3613, Val Loss: 3.0944\n",
      "Epoch 37, Train Loss: 0.3385, Val Loss: 3.1252\n",
      "Epoch 38, Train Loss: 0.3464, Val Loss: 3.1635\n",
      "Epoch 39, Train Loss: 0.3260, Val Loss: 3.2285\n",
      "Epoch 40, Train Loss: 0.3220, Val Loss: 3.1918\n",
      "Epoch 41, Train Loss: 0.3219, Val Loss: 3.2189\n",
      "Epoch 42, Train Loss: 0.3174, Val Loss: 3.3773\n",
      "Epoch 43, Train Loss: 0.2978, Val Loss: 3.3560\n",
      "Epoch 44, Train Loss: 0.2899, Val Loss: 3.4988\n",
      "Epoch 45, Train Loss: 0.3033, Val Loss: 3.5893\n",
      "Epoch 46, Train Loss: 0.2781, Val Loss: 3.5920\n",
      "Epoch 47, Train Loss: 0.2857, Val Loss: 3.6316\n",
      "Epoch 48, Train Loss: 0.2910, Val Loss: 3.6013\n",
      "Epoch 49, Train Loss: 0.2814, Val Loss: 3.5460\n",
      "Epoch 50, Train Loss: 0.2459, Val Loss: 3.8991\n",
      "Epoch 51, Train Loss: 0.2904, Val Loss: 3.8486\n",
      "Epoch 52, Train Loss: 0.2752, Val Loss: 3.7087\n",
      "Epoch 53, Train Loss: 0.2465, Val Loss: 3.9924\n",
      "Epoch 54, Train Loss: 0.2616, Val Loss: 4.0506\n",
      "Epoch 55, Train Loss: 0.2507, Val Loss: 3.7830\n",
      "Early stopping triggered after 55 epochs.\n"
     ]
    },
    {
     "data": {
      "text/plain": [
       "{'n_layers': 2,\n",
       " 'neurons_per_layer': [1000, 1000],\n",
       " 'learning_rate': 0.001,\n",
       " 'test_accuracy': 0.4995}"
      ]
     },
     "execution_count": 5,
     "metadata": {},
     "output_type": "execute_result"
    }
   ],
   "source": [
    "experiment.build_train_and_evaluate(train_loader=train_loader,\n",
    "                             test_loader=test_loader)\n"
   ]
  },
  {
   "cell_type": "code",
   "execution_count": 6,
   "metadata": {},
   "outputs": [
    {
     "name": "stdout",
     "output_type": "stream",
     "text": [
      "Epoch 1, Train Loss: 1.7035, Val Loss: 1.5572\n",
      "Epoch 2, Train Loss: 1.5172, Val Loss: 1.5127\n",
      "Epoch 3, Train Loss: 1.4193, Val Loss: 1.4496\n",
      "Epoch 4, Train Loss: 1.3365, Val Loss: 1.4582\n",
      "Epoch 5, Train Loss: 1.2768, Val Loss: 1.4458\n",
      "Epoch 6, Train Loss: 1.2091, Val Loss: 1.4573\n",
      "Epoch 7, Train Loss: 1.1499, Val Loss: 1.4796\n",
      "Epoch 8, Train Loss: 1.0883, Val Loss: 1.5238\n",
      "Epoch 9, Train Loss: 1.0400, Val Loss: 1.5176\n",
      "Epoch 10, Train Loss: 0.9834, Val Loss: 1.5179\n",
      "Epoch 11, Train Loss: 0.9248, Val Loss: 1.5567\n",
      "Epoch 12, Train Loss: 0.8864, Val Loss: 1.6495\n",
      "Epoch 13, Train Loss: 0.8373, Val Loss: 1.6862\n",
      "Epoch 14, Train Loss: 0.7941, Val Loss: 1.7070\n",
      "Epoch 15, Train Loss: 0.7591, Val Loss: 1.8229\n",
      "Epoch 16, Train Loss: 0.7154, Val Loss: 1.8635\n",
      "Epoch 17, Train Loss: 0.6820, Val Loss: 1.8247\n",
      "Epoch 18, Train Loss: 0.6440, Val Loss: 1.9050\n",
      "Epoch 19, Train Loss: 0.6139, Val Loss: 2.0271\n",
      "Epoch 20, Train Loss: 0.5970, Val Loss: 2.0582\n",
      "Epoch 21, Train Loss: 0.5567, Val Loss: 2.1746\n",
      "Epoch 22, Train Loss: 0.5434, Val Loss: 2.1646\n",
      "Epoch 23, Train Loss: 0.5222, Val Loss: 2.2031\n",
      "Epoch 24, Train Loss: 0.5009, Val Loss: 2.2995\n",
      "Epoch 25, Train Loss: 0.4831, Val Loss: 2.3644\n",
      "Epoch 26, Train Loss: 0.4701, Val Loss: 2.4847\n",
      "Epoch 27, Train Loss: 0.4576, Val Loss: 2.4428\n",
      "Epoch 28, Train Loss: 0.4304, Val Loss: 2.5317\n",
      "Epoch 29, Train Loss: 0.4232, Val Loss: 2.6464\n",
      "Epoch 30, Train Loss: 0.4016, Val Loss: 2.5781\n",
      "Epoch 31, Train Loss: 0.3966, Val Loss: 2.8325\n",
      "Epoch 32, Train Loss: 0.3963, Val Loss: 2.8053\n",
      "Epoch 33, Train Loss: 0.3641, Val Loss: 2.7504\n",
      "Epoch 34, Train Loss: 0.3598, Val Loss: 2.9049\n",
      "Epoch 35, Train Loss: 0.3513, Val Loss: 2.8648\n",
      "Epoch 36, Train Loss: 0.3613, Val Loss: 3.0944\n",
      "Epoch 37, Train Loss: 0.3385, Val Loss: 3.1252\n",
      "Epoch 38, Train Loss: 0.3464, Val Loss: 3.1635\n",
      "Epoch 39, Train Loss: 0.3260, Val Loss: 3.2285\n",
      "Epoch 40, Train Loss: 0.3220, Val Loss: 3.1918\n",
      "Epoch 41, Train Loss: 0.3219, Val Loss: 3.2189\n",
      "Epoch 42, Train Loss: 0.3174, Val Loss: 3.3773\n",
      "Epoch 43, Train Loss: 0.2978, Val Loss: 3.3560\n",
      "Epoch 44, Train Loss: 0.2899, Val Loss: 3.4988\n",
      "Epoch 45, Train Loss: 0.3033, Val Loss: 3.5893\n",
      "Epoch 46, Train Loss: 0.2781, Val Loss: 3.5920\n",
      "Epoch 47, Train Loss: 0.2857, Val Loss: 3.6316\n",
      "Epoch 48, Train Loss: 0.2910, Val Loss: 3.6013\n",
      "Epoch 49, Train Loss: 0.2814, Val Loss: 3.5460\n",
      "Epoch 50, Train Loss: 0.2459, Val Loss: 3.8991\n",
      "Epoch 51, Train Loss: 0.2904, Val Loss: 3.8486\n",
      "Epoch 52, Train Loss: 0.2752, Val Loss: 3.7087\n",
      "Epoch 53, Train Loss: 0.2465, Val Loss: 3.9924\n",
      "Epoch 54, Train Loss: 0.2616, Val Loss: 4.0506\n",
      "Epoch 55, Train Loss: 0.2507, Val Loss: 3.7830\n",
      "Early stopping triggered after 55 epochs.\n"
     ]
    },
    {
     "data": {
      "text/plain": [
       "{'n_layers': 2,\n",
       " 'neurons_per_layer': [1000, 1000],\n",
       " 'learning_rate': 0.001,\n",
       " 'test_accuracy': 0.4995}"
      ]
     },
     "execution_count": 6,
     "metadata": {},
     "output_type": "execute_result"
    }
   ],
   "source": [
    "experiment.build_train_and_evaluate(train_loader=train_loader,\n",
    "                             test_loader=test_loader)\n"
   ]
  },
  {
   "cell_type": "markdown",
   "metadata": {},
   "source": [
    "# Comments\n",
    "It seems to work as intended.  \n",
    "TODO:  \n",
    "    - Define random initialization and test it.   \n",
    "    - Add condition for strategy (currenly only OE)\n",
    "    - There's an issue with the remnants of the last epoch training. Checking how to reset everything."
   ]
  }
 ],
 "metadata": {
  "kernelspec": {
   "display_name": "AutoML",
   "language": "python",
   "name": "python3"
  },
  "language_info": {
   "codemirror_mode": {
    "name": "ipython",
    "version": 3
   },
   "file_extension": ".py",
   "mimetype": "text/x-python",
   "name": "python",
   "nbconvert_exporter": "python",
   "pygments_lexer": "ipython3",
   "version": "3.11.11"
  }
 },
 "nbformat": 4,
 "nbformat_minor": 2
}
