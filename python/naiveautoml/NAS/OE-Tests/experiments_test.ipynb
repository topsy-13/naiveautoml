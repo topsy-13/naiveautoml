{
 "cells": [
  {
   "cell_type": "code",
   "execution_count": 1,
   "metadata": {},
   "outputs": [],
   "source": [
    "import torch\n",
    "import torch.nn as nn\n",
    "import torch.optim as optim\n",
    "\n",
    "# Own modules\n",
    "import load_cifar10\n",
    "import experiments\n",
    "\n",
    "import pandas as pd\n",
    "import matplotlib.pyplot as plt\n",
    "import seaborn as sns\n",
    "import numpy as np"
   ]
  },
  {
   "cell_type": "code",
   "execution_count": 2,
   "metadata": {},
   "outputs": [
    {
     "name": "stdout",
     "output_type": "stream",
     "text": [
      "Data loaded succesfully! as <class 'torch.Tensor'>\n",
      "Training data shape: torch.Size([40000, 3, 32, 32])\n"
     ]
    }
   ],
   "source": [
    "train_dataset, val_dataset, test_dataset = load_cifar10.load_and_create_loaders('../CIFAR-10', return_ds=True)"
   ]
  },
  {
   "cell_type": "code",
   "execution_count": 3,
   "metadata": {},
   "outputs": [],
   "source": [
    "# Set architecture\n",
    "input_size = 32 * 32 * 3  # 3072 features per image\n",
    "hidden_layers = [1000, 1000] \n",
    "num_classes = 10  # CIFAR-10 has 10 classes\n",
    "lr = 0.001\n",
    "\n",
    "# Create dict to pass to experiments\n",
    "architecture = {\n",
    "    'input_size': input_size,\n",
    "    'hlayers_size': hidden_layers,\n",
    "    'lr': lr,\n",
    "    'num_classes': num_classes\n",
    "}"
   ]
  },
  {
   "cell_type": "code",
   "execution_count": 4,
   "metadata": {},
   "outputs": [],
   "source": [
    "experiment = experiments.Experiment(architecture=architecture, train_strategy='ES')"
   ]
  },
  {
   "cell_type": "code",
   "execution_count": 5,
   "metadata": {},
   "outputs": [
    {
     "name": "stdout",
     "output_type": "stream",
     "text": [
      "\n",
      "Training with 10 samples...\n",
      "\n",
      "Training with 15 samples...\n",
      "\n",
      "Training with 23 samples...\n",
      "\n",
      "Training with 37 samples...\n",
      "\n",
      "Training with 57 samples...\n",
      "\n",
      "Training with 88 samples...\n",
      "\n",
      "Training with 137 samples...\n",
      "\n",
      "Training with 212 samples...\n",
      "\n",
      "Training with 328 samples...\n",
      "\n",
      "Training with 508 samples...\n",
      "\n",
      "Training with 786 samples...\n",
      "\n",
      "Training with 1217 samples...\n",
      "\n",
      "Training with 1883 samples...\n",
      "\n",
      "Training with 2914 samples...\n",
      "\n",
      "Training with 4509 samples...\n",
      "\n",
      "Training with 6978 samples...\n",
      "\n",
      "Training with 10797 samples...\n",
      "\n",
      "Training with 16706 samples...\n",
      "\n",
      "Training with 25851 samples...\n",
      "\n",
      "Training with 40000 samples...\n"
     ]
    }
   ],
   "source": [
    "train_results, val_results = experiment.generate_learning_curve(train_dataset=train_dataset, val_dataset=val_dataset, batch_size=32, metric='loss', verbose=True)"
   ]
  },
  {
   "cell_type": "code",
   "execution_count": 9,
   "metadata": {},
   "outputs": [
    {
     "data": {
      "text/plain": [
       "[30.397339630126954,\n",
       " 30.864401525878908,\n",
       " 17.36181947631836,\n",
       " 8.044703010559083,\n",
       " 11.186753276062012,\n",
       " 6.9144917037963864,\n",
       " 6.500480656433106,\n",
       " 6.088235258483887,\n",
       " 5.592107534790039,\n",
       " 6.0240387451171875,\n",
       " 5.172578789520264,\n",
       " 5.242801735687256,\n",
       " 5.238870753479004,\n",
       " 4.7047827968597415,\n",
       " 4.621927410125733,\n",
       " 3.645551508331299,\n",
       " 3.504027201271057,\n",
       " 3.132901847076416,\n",
       " 2.402778286743164,\n",
       " 1.9496902688980102]"
      ]
     },
     "execution_count": 9,
     "metadata": {},
     "output_type": "execute_result"
    }
   ],
   "source": [
    "val_results"
   ]
  },
  {
   "cell_type": "code",
   "execution_count": null,
   "metadata": {},
   "outputs": [],
   "source": []
  },
  {
   "cell_type": "code",
   "execution_count": 14,
   "metadata": {},
   "outputs": [],
   "source": [
    "full_train_size = len(train_dataset)\n",
    "DATASET_SIZES = 20\n",
    "training_sizes = np.logspace(1, np.log10(full_train_size), DATASET_SIZES, dtype=int)"
   ]
  },
  {
   "cell_type": "code",
   "execution_count": 23,
   "metadata": {},
   "outputs": [
    {
     "data": {
      "text/plain": [
       "<Axes: >"
      ]
     },
     "execution_count": 23,
     "metadata": {},
     "output_type": "execute_result"
    },
    {
     "data": {
      "image/png": "[encoded data removed]",
      "text/plain": [
       "<Figure size 640x480 with 1 Axes>"
      ]
     },
     "metadata": {},
     "output_type": "display_data"
    }
   ],
   "source": [
    "# Set style\n",
    "sns.set_theme(style=\"whitegrid\", palette=\"viridis\")\n",
    "colors = sns.color_palette(\"magma\", 2)\n",
    "plt.figure()\n",
    "sns.lineplot(x=training_sizes, y=train_results)"
   ]
  },
  {
   "cell_type": "markdown",
   "metadata": {},
   "source": [
    "# Comments\n",
    "It seems to work as intended.  \n",
    "TODO:   \n",
    "- Test replicability because of the seeds. \n",
    "- ! Test how the fuck to integrate both the LC and the other metrics\n",
    "- Think about how to export and handle this pieces of art."
   ]
  },
  {
   "cell_type": "markdown",
   "metadata": {},
   "source": [
    "# Break it"
   ]
  },
  {
   "cell_type": "code",
   "execution_count": 2,
   "metadata": {},
   "outputs": [
    {
     "name": "stdout",
     "output_type": "stream",
     "text": [
      "Data loaded succesfully! as <class 'torch.Tensor'>\n",
      "Training data shape: torch.Size([40000, 3, 32, 32])\n"
     ]
    }
   ],
   "source": [
    "train_dataset, val_dataset, test_dataset = load_cifar10.load_and_create_loaders('../CIFAR-10', return_ds=True)\n",
    "\n",
    "# Set architecture\n",
    "input_size = 32 * 32 * 3  # 3072 features per image\n",
    "hidden_layers = [1000, 1000] \n",
    "num_classes = 10  # CIFAR-10 has 10 classes\n",
    "lr = 0.001\n",
    "\n",
    "# Set other HP\n",
    "random_seed = 13\n",
    "batch_size = 32\n",
    "\n",
    "# Create dict to pass to experiments\n",
    "architecture = {\n",
    "    'input_size': input_size,\n",
    "    'hlayers_size': hidden_layers,\n",
    "    'lr': lr,\n",
    "    'num_classes': num_classes\n",
    "}"
   ]
  },
  {
   "cell_type": "code",
   "execution_count": null,
   "metadata": {},
   "outputs": [
    {
     "data": {
      "application/vnd.microsoft.datawrangler.viewer.v0+json": {
       "columns": [
        {
         "name": "index",
         "rawType": "int64",
         "type": "integer"
        },
        {
         "name": "ID",
         "rawType": "object",
         "type": "string"
        },
        {
         "name": "n_layers",
         "rawType": "object",
         "type": "string"
        },
        {
         "name": "neurons_per_layer",
         "rawType": "object",
         "type": "string"
        },
        {
         "name": "learning_rate",
         "rawType": "object",
         "type": "string"
        },
        {
         "name": "train_loss",
         "rawType": "object",
         "type": "string"
        },
        {
         "name": "train_accuracy",
         "rawType": "object",
         "type": "string"
        },
        {
         "name": "val_loss",
         "rawType": "object",
         "type": "string"
        },
        {
         "name": "val_accuracy",
         "rawType": "object",
         "type": "string"
        },
        {
         "name": "test_loss",
         "rawType": "object",
         "type": "string"
        },
        {
         "name": "test_accuracy",
         "rawType": "object",
         "type": "string"
        },
        {
         "name": "train_val_time",
         "rawType": "object",
         "type": "string"
        },
        {
         "name": "LC_Train",
         "rawType": "object",
         "type": "string"
        },
        {
         "name": "LC_Validation",
         "rawType": "object",
         "type": "string"
        },
        {
         "name": "Strategy",
         "rawType": "object",
         "type": "string"
        },
        {
         "name": "Seed",
         "rawType": "object",
         "type": "string"
        },
        {
         "name": "Batch Size",
         "rawType": "object",
         "type": "string"
        }
       ],
       "conversionMethod": "pd.DataFrame",
       "ref": "92e43f73-fb21-4003-a9f5-792e704c2902",
       "rows": [
        [
         "0",
         "2_[1000, 1000]_0.001",
         "2",
         "[1000, 1000]",
         "0.001",
         "1.5859288058280945",
         "0.426075",
         "1.6457862573623656",
         "0.4033",
         "1.6383095226287843",
         "0.4103",
         "3.4999725818634033",
         "[1.5081572532653809, 0.9250859022140503, 1.0498683452606201, 1.0828779565321434, 0.9807947319850587, 0.9238270792094144, 0.9066443547715236, 0.8820339250114729, 0.8702149536551499, 0.9325700097196684, 0.9591434068655543, 0.9629252020854292, 1.0686671902255942, 1.2206684010603204, 1.1604568126804946, 1.2853426440256173, 1.3566007132639297, 1.3159612883183394, 1.3163213193829315, 1.3487246450424195]",
         "[1.6516873474121094, 1.6597106161117554, 1.6680050144195557, 1.707265472984314, 1.8138436321258544, 1.9072446538925172, 1.793181267929077, 1.8241540502548217, 1.817317235183716, 1.7858314235687256, 1.707502525138855, 1.7321253089904785, 1.7683982738494872, 1.7540842346191405, 1.6981560754776002, 1.7131031991958618, 1.682418578338623, 1.659674853515625, 1.5442426956176758, 1.50874257106781]",
         "OE",
         "13",
         "32"
        ]
       ],
       "shape": {
        "columns": 16,
        "rows": 1
       }
      },
      "text/html": [
       "<div>\n",
       "<style scoped>\n",
       "    .dataframe tbody tr th:only-of-type {\n",
       "        vertical-align: middle;\n",
       "    }\n",
       "\n",
       "    .dataframe tbody tr th {\n",
       "        vertical-align: top;\n",
       "    }\n",
       "\n",
       "    .dataframe thead th {\n",
       "        text-align: right;\n",
       "    }\n",
       "</style>\n",
       "<table border=\"1\" class=\"dataframe\">\n",
       "  <thead>\n",
       "    <tr style=\"text-align: right;\">\n",
       "      <th></th>\n",
       "      <th>ID</th>\n",
       "      <th>n_layers</th>\n",
       "      <th>neurons_per_layer</th>\n",
       "      <th>learning_rate</th>\n",
       "      <th>train_loss</th>\n",
       "      <th>train_accuracy</th>\n",
       "      <th>val_loss</th>\n",
       "      <th>val_accuracy</th>\n",
       "      <th>test_loss</th>\n",
       "      <th>test_accuracy</th>\n",
       "      <th>train_val_time</th>\n",
       "      <th>LC_Train</th>\n",
       "      <th>LC_Validation</th>\n",
       "      <th>Strategy</th>\n",
       "      <th>Seed</th>\n",
       "      <th>Batch Size</th>\n",
       "    </tr>\n",
       "  </thead>\n",
       "  <tbody>\n",
       "    <tr>\n",
       "      <th>0</th>\n",
       "      <td>2_[1000, 1000]_0.001</td>\n",
       "      <td>2</td>\n",
       "      <td>[1000, 1000]</td>\n",
       "      <td>0.001</td>\n",
       "      <td>1.5859288058280945</td>\n",
       "      <td>0.426075</td>\n",
       "      <td>1.6457862573623656</td>\n",
       "      <td>0.4033</td>\n",
       "      <td>1.6383095226287843</td>\n",
       "      <td>0.4103</td>\n",
       "      <td>3.4999725818634033</td>\n",
       "      <td>[1.5081572532653809, 0.9250859022140503, 1.049...</td>\n",
       "      <td>[1.6516873474121094, 1.6597106161117554, 1.668...</td>\n",
       "      <td>OE</td>\n",
       "      <td>13</td>\n",
       "      <td>32</td>\n",
       "    </tr>\n",
       "  </tbody>\n",
       "</table>\n",
       "</div>"
      ],
      "text/plain": [
       "                     ID n_layers neurons_per_layer learning_rate  \\\n",
       "0  2_[1000, 1000]_0.001        2      [1000, 1000]         0.001   \n",
       "\n",
       "           train_loss train_accuracy            val_loss val_accuracy  \\\n",
       "0  1.5859288058280945       0.426075  1.6457862573623656       0.4033   \n",
       "\n",
       "            test_loss test_accuracy      train_val_time  \\\n",
       "0  1.6383095226287843        0.4103  3.4999725818634033   \n",
       "\n",
       "                                            LC_Train  \\\n",
       "0  [1.5081572532653809, 0.9250859022140503, 1.049...   \n",
       "\n",
       "                                       LC_Validation Strategy Seed Batch Size  \n",
       "0  [1.6516873474121094, 1.6597106161117554, 1.668...       OE   13         32  "
      ]
     },
     "metadata": {},
     "output_type": "display_data"
    }
   ],
   "source": [
    "# My first experiment\n",
    "experiment = experiments.Experiment(architecture=architecture, \n",
    "                                    train_strategy='OE', \n",
    "                                    random_seed=random_seed)\n",
    "results = experiment.full_experiment(train_dataset=train_dataset,\n",
    "                                     val_dataset=val_dataset, \n",
    "                                     test_dataset=test_dataset,\n",
    "                                     batch_size=batch_size)\n",
    "\n",
    "# Create a DataFrame with the results\n",
    "string_values = {key: str(value) for key, value in results.items()}\n",
    "df = pd.DataFrame([string_values])\n",
    "\n",
    "display(df)"
   ]
  },
  {
   "cell_type": "code",
   "execution_count": 7,
   "metadata": {},
   "outputs": [
    {
     "data": {
      "application/vnd.microsoft.datawrangler.viewer.v0+json": {
       "columns": [
        {
         "name": "index",
         "rawType": "int64",
         "type": "integer"
        },
        {
         "name": "ID",
         "rawType": "object",
         "type": "string"
        },
        {
         "name": "n_layers",
         "rawType": "object",
         "type": "string"
        },
        {
         "name": "neurons_per_layer",
         "rawType": "object",
         "type": "string"
        },
        {
         "name": "learning_rate",
         "rawType": "object",
         "type": "string"
        },
        {
         "name": "train_loss",
         "rawType": "object",
         "type": "string"
        },
        {
         "name": "train_accuracy",
         "rawType": "object",
         "type": "string"
        },
        {
         "name": "val_loss",
         "rawType": "object",
         "type": "string"
        },
        {
         "name": "val_accuracy",
         "rawType": "object",
         "type": "string"
        },
        {
         "name": "test_loss",
         "rawType": "object",
         "type": "string"
        },
        {
         "name": "test_accuracy",
         "rawType": "object",
         "type": "string"
        },
        {
         "name": "train_val_time",
         "rawType": "object",
         "type": "string"
        },
        {
         "name": "LC_Train",
         "rawType": "object",
         "type": "string"
        },
        {
         "name": "LC_Validation",
         "rawType": "object",
         "type": "string"
        },
        {
         "name": "Strategy",
         "rawType": "object",
         "type": "string"
        },
        {
         "name": "Seed",
         "rawType": "object",
         "type": "string"
        },
        {
         "name": "Batch Size",
         "rawType": "object",
         "type": "string"
        }
       ],
       "conversionMethod": "pd.DataFrame",
       "ref": "4f0dfb07-6374-48a4-8e9c-2e2462df1c3e",
       "rows": [
        [
         "0",
         "2_[1000, 1000]_0.001",
         "2",
         "[1000, 1000]",
         "0.001",
         "0.5614279808044433",
         "0.800925",
         "1.9600209506988526",
         "0.5184",
         "2.042952799606323",
         "0.5144",
         "86.42317485809326",
         "[0.0007674006628803909, 0.19600678980350494, 0.1054067388176918, 0.01159705883961775, 0.0018219744925501576, 0.0862948555837978, 0.031617179484935955, 0.04994056619844347, 0.025360419687519713, 0.04352699155647924, 0.11600355912028378, 0.0961403151882197, 0.4068520221695011, 0.1165878018675124, 0.2298572836726752, 0.204902959592997, 0.25132471726560546, 0.23141182005435754, 0.40345355113251685, 0.314287876778841]",
         "[2.1473799964904785, 2.657403028678894, 3.033324557495117, 3.8314478328704835, 3.4537985763549806, 3.5526465480804443, 3.756486634063721, 3.7067786388397215, 3.8049395862579347, 3.9442169185638427, 3.6611980131149293, 4.315049005889892, 4.571293476104736, 4.075717985153198, 3.8304755120277405, 3.6199333017349242, 3.8979766735076904, 3.770322621536255, 4.14412895565033, 3.487314177322388]",
         "ES",
         "13",
         "32"
        ]
       ],
       "shape": {
        "columns": 16,
        "rows": 1
       }
      },
      "text/html": [
       "<div>\n",
       "<style scoped>\n",
       "    .dataframe tbody tr th:only-of-type {\n",
       "        vertical-align: middle;\n",
       "    }\n",
       "\n",
       "    .dataframe tbody tr th {\n",
       "        vertical-align: top;\n",
       "    }\n",
       "\n",
       "    .dataframe thead th {\n",
       "        text-align: right;\n",
       "    }\n",
       "</style>\n",
       "<table border=\"1\" class=\"dataframe\">\n",
       "  <thead>\n",
       "    <tr style=\"text-align: right;\">\n",
       "      <th></th>\n",
       "      <th>ID</th>\n",
       "      <th>n_layers</th>\n",
       "      <th>neurons_per_layer</th>\n",
       "      <th>learning_rate</th>\n",
       "      <th>train_loss</th>\n",
       "      <th>train_accuracy</th>\n",
       "      <th>val_loss</th>\n",
       "      <th>val_accuracy</th>\n",
       "      <th>test_loss</th>\n",
       "      <th>test_accuracy</th>\n",
       "      <th>train_val_time</th>\n",
       "      <th>LC_Train</th>\n",
       "      <th>LC_Validation</th>\n",
       "      <th>Strategy</th>\n",
       "      <th>Seed</th>\n",
       "      <th>Batch Size</th>\n",
       "    </tr>\n",
       "  </thead>\n",
       "  <tbody>\n",
       "    <tr>\n",
       "      <th>0</th>\n",
       "      <td>2_[1000, 1000]_0.001</td>\n",
       "      <td>2</td>\n",
       "      <td>[1000, 1000]</td>\n",
       "      <td>0.001</td>\n",
       "      <td>0.5614279808044433</td>\n",
       "      <td>0.800925</td>\n",
       "      <td>1.9600209506988526</td>\n",
       "      <td>0.5184</td>\n",
       "      <td>2.042952799606323</td>\n",
       "      <td>0.5144</td>\n",
       "      <td>86.42317485809326</td>\n",
       "      <td>[0.0007674006628803909, 0.19600678980350494, 0...</td>\n",
       "      <td>[2.1473799964904785, 2.657403028678894, 3.0333...</td>\n",
       "      <td>ES</td>\n",
       "      <td>13</td>\n",
       "      <td>32</td>\n",
       "    </tr>\n",
       "  </tbody>\n",
       "</table>\n",
       "</div>"
      ],
      "text/plain": [
       "                     ID n_layers neurons_per_layer learning_rate  \\\n",
       "0  2_[1000, 1000]_0.001        2      [1000, 1000]         0.001   \n",
       "\n",
       "           train_loss train_accuracy            val_loss val_accuracy  \\\n",
       "0  0.5614279808044433       0.800925  1.9600209506988526       0.5184   \n",
       "\n",
       "           test_loss test_accuracy     train_val_time  \\\n",
       "0  2.042952799606323        0.5144  86.42317485809326   \n",
       "\n",
       "                                            LC_Train  \\\n",
       "0  [0.0007674006628803909, 0.19600678980350494, 0...   \n",
       "\n",
       "                                       LC_Validation Strategy Seed Batch Size  \n",
       "0  [2.1473799964904785, 2.657403028678894, 3.0333...       ES   13         32  "
      ]
     },
     "metadata": {},
     "output_type": "display_data"
    }
   ],
   "source": [
    "# My SECOND experiment\n",
    "experiment = experiments.Experiment(architecture=architecture, \n",
    "                                    train_strategy='ES', \n",
    "                                    random_seed=random_seed)\n",
    "results = experiment.full_experiment(train_dataset=train_dataset,\n",
    "                                     val_dataset=val_dataset, \n",
    "                                     test_dataset=test_dataset,\n",
    "                                     batch_size=batch_size)\n",
    "\n",
    "# Create a DataFrame with the results\n",
    "string_values = {key: str(value) for key, value in results.items()}\n",
    "df = pd.DataFrame([string_values])\n",
    "\n",
    "display(df)"
   ]
  },
  {
   "cell_type": "markdown",
   "metadata": {},
   "source": [
    "The training time and metrics is not of the best model, is  of the last model, I think.(?)"
   ]
  }
 ],
 "metadata": {
  "kernelspec": {
   "display_name": "AutoML",
   "language": "python",
   "name": "python3"
  },
  "language_info": {
   "codemirror_mode": {
    "name": "ipython",
    "version": 3
   },
   "file_extension": ".py",
   "mimetype": "text/x-python",
   "name": "python",
   "nbconvert_exporter": "python",
   "pygments_lexer": "ipython3",
   "version": "3.11.11"
  }
 },
 "nbformat": 4,
 "nbformat_minor": 2
}
